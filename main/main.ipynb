{
 "cells": [
  {
   "cell_type": "code",
   "execution_count": 8,
   "metadata": {},
   "outputs": [],
   "source": [
    "import pandas as pd\n",
    "import numpy as np\n",
    "import graphic_visualization.plot_graphics as GRAPH_VIS"
   ]
  },
  {
   "cell_type": "code",
   "execution_count": 9,
   "metadata": {},
   "outputs": [
    {
     "data": {
      "text/html": [
       "<div>\n",
       "<style scoped>\n",
       "    .dataframe tbody tr th:only-of-type {\n",
       "        vertical-align: middle;\n",
       "    }\n",
       "\n",
       "    .dataframe tbody tr th {\n",
       "        vertical-align: top;\n",
       "    }\n",
       "\n",
       "    .dataframe thead th {\n",
       "        text-align: right;\n",
       "    }\n",
       "</style>\n",
       "<table border=\"1\" class=\"dataframe\">\n",
       "  <thead>\n",
       "    <tr style=\"text-align: right;\">\n",
       "      <th></th>\n",
       "      <th>gl_value</th>\n",
       "    </tr>\n",
       "    <tr>\n",
       "      <th>ts</th>\n",
       "      <th></th>\n",
       "    </tr>\n",
       "  </thead>\n",
       "  <tbody>\n",
       "    <tr>\n",
       "      <th>24-06-2027 00:00:00</th>\n",
       "      <td>161</td>\n",
       "    </tr>\n",
       "    <tr>\n",
       "      <th>24-06-2027 00:05:00</th>\n",
       "      <td>155</td>\n",
       "    </tr>\n",
       "    <tr>\n",
       "      <th>24-06-2027 00:10:00</th>\n",
       "      <td>150</td>\n",
       "    </tr>\n",
       "    <tr>\n",
       "      <th>24-06-2027 00:15:00</th>\n",
       "      <td>147</td>\n",
       "    </tr>\n",
       "    <tr>\n",
       "      <th>24-06-2027 00:20:00</th>\n",
       "      <td>144</td>\n",
       "    </tr>\n",
       "  </tbody>\n",
       "</table>\n",
       "</div>"
      ],
      "text/plain": [
       "                     gl_value\n",
       "ts                           \n",
       "24-06-2027 00:00:00       161\n",
       "24-06-2027 00:05:00       155\n",
       "24-06-2027 00:10:00       150\n",
       "24-06-2027 00:15:00       147\n",
       "24-06-2027 00:20:00       144"
      ]
     },
     "execution_count": 9,
     "metadata": {},
     "output_type": "execute_result"
    }
   ],
   "source": [
    "path = \"/Users/cleberfcarvalho/Documents/sacarose_/main/data/t1d/544-ws-testing_t1dm.csv\"\n",
    "data = pd.read_csv(path, index_col=0)\n",
    "data.drop(['gl_predict'], axis=1, inplace= True)\n",
    "data.head()"
   ]
  },
  {
   "cell_type": "code",
   "execution_count": 10,
   "metadata": {},
   "outputs": [
    {
     "name": "stdout",
     "output_type": "stream",
     "text": [
      "                     gl_value\n",
      "ts                           \n",
      "24-06-2027 00:00:00       161\n",
      "24-06-2027 00:05:00       155\n",
      "24-06-2027 00:10:00       150\n",
      "24-06-2027 00:15:00       147\n",
      "24-06-2027 00:20:00       144\n"
     ]
    }
   ],
   "source": [
    "print(data.head())\n"
   ]
  },
  {
   "cell_type": "code",
   "execution_count": 11,
   "metadata": {},
   "outputs": [
    {
     "name": "stdout",
     "output_type": "stream",
     "text": [
      "                     gl_value\n",
      "ts                           \n",
      "24-06-2027 00:00:00       161\n",
      "24-06-2027 00:05:00       155\n",
      "24-06-2027 00:10:00       150\n",
      "24-06-2027 00:15:00       147\n",
      "24-06-2027 00:20:00       144\n",
      "clebinho\n"
     ]
    }
   ],
   "source": [
    "GRAPH_VIS.clebinho(data)"
   ]
  },
  {
   "cell_type": "code",
   "execution_count": 12,
   "metadata": {},
   "outputs": [
    {
     "name": "stdout",
     "output_type": "stream",
     "text": [
      "plot graph\n"
     ]
    }
   ],
   "source": [
    "GRAPH_VIS.plot_graph_here()"
   ]
  },
  {
   "cell_type": "code",
   "execution_count": 13,
   "metadata": {},
   "outputs": [
    {
     "name": "stdout",
     "output_type": "stream",
     "text": [
      "                     gl_value\n",
      "ts                           \n",
      "24-06-2027 00:00:00       161\n",
      "24-06-2027 00:05:00       155\n",
      "24-06-2027 00:10:00       150\n",
      "24-06-2027 00:15:00       147\n",
      "24-06-2027 00:20:00       144\n"
     ]
    }
   ],
   "source": [
    "GRAPH_VIS.print_cabeca(data)"
   ]
  }
 ],
 "metadata": {
  "kernelspec": {
   "display_name": "kerasenv",
   "language": "python",
   "name": "kerasenv"
  },
  "language_info": {
   "codemirror_mode": {
    "name": "ipython",
    "version": 3
   },
   "file_extension": ".py",
   "mimetype": "text/x-python",
   "name": "python",
   "nbconvert_exporter": "python",
   "pygments_lexer": "ipython3",
   "version": "3.9.15"
  }
 },
 "nbformat": 4,
 "nbformat_minor": 2
}
